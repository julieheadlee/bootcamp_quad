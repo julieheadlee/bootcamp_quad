{
 "cells": [
  {
   "cell_type": "code",
   "execution_count": 1,
   "metadata": {},
   "outputs": [],
   "source": [
    "#Notebook for Data Analysis\n",
    "\n",
    "#Notebooks for data exploration and cleanup\n",
    "# Dependencies and Setup\n",
    "import matplotlib.pyplot as plt\n",
    "import pandas as pd\n",
    "import numpy as np\n",
    "import requests\n",
    "import time\n",
    "from scipy.stats import linregress \n",
    "import warnings\n",
    "\n",
    "warnings.filterwarnings(\"ignore\")\n",
    "\n",
    "#For the x-axis in charts\n",
    "years = [\"2005\", \"2006\", \"2007\", \"2008\", \"2009\", \"2010\", \"2011\", \"2012\", \"2013\", \"2014\", \"2015\", \"2016\", \"2017\", \"2018\"]"
   ]
  },
  {
   "cell_type": "markdown",
   "metadata": {},
   "source": [
    "<h1>Analysis - Substance Abuse Treatment</h1>"
   ]
  },
  {
   "cell_type": "markdown",
   "metadata": {},
   "source": [
    "The hypothesis tested is that there was no significant difference between Colorado substance abuse treatments for marijuana and the rest of the country.  "
   ]
  },
  {
   "cell_type": "code",
   "execution_count": 2,
   "metadata": {},
   "outputs": [],
   "source": [
    "# Load data files generated in the exploration and cleanup phase.\n",
    "colorado_data = pd.read_csv(\"Data/colorado_use_data.csv\", index_col=0)\n",
    "us_data = pd.read_csv(\"Data/US_full_use_data.csv\", index_col=0)"
   ]
  },
  {
   "cell_type": "code",
   "execution_count": 3,
   "metadata": {},
   "outputs": [
    {
     "data": {
      "text/html": [
       "<div>\n",
       "<style scoped>\n",
       "    .dataframe tbody tr th:only-of-type {\n",
       "        vertical-align: middle;\n",
       "    }\n",
       "\n",
       "    .dataframe tbody tr th {\n",
       "        vertical-align: top;\n",
       "    }\n",
       "\n",
       "    .dataframe thead th {\n",
       "        text-align: right;\n",
       "    }\n",
       "</style>\n",
       "<table border=\"1\" class=\"dataframe\">\n",
       "  <thead>\n",
       "    <tr style=\"text-align: right;\">\n",
       "      <th></th>\n",
       "      <th>ADMYR</th>\n",
       "      <th>SUB1</th>\n",
       "      <th>count_primary</th>\n",
       "      <th>count_secondary</th>\n",
       "      <th>count_tertiary</th>\n",
       "    </tr>\n",
       "  </thead>\n",
       "  <tbody>\n",
       "    <tr>\n",
       "      <th>0</th>\n",
       "      <td>2005</td>\n",
       "      <td>1</td>\n",
       "      <td>6518</td>\n",
       "      <td>195516</td>\n",
       "      <td>315073</td>\n",
       "    </tr>\n",
       "    <tr>\n",
       "      <th>1</th>\n",
       "      <td>2005</td>\n",
       "      <td>2</td>\n",
       "      <td>179564</td>\n",
       "      <td>59552</td>\n",
       "      <td>18269</td>\n",
       "    </tr>\n",
       "    <tr>\n",
       "      <th>2</th>\n",
       "      <td>2005</td>\n",
       "      <td>3</td>\n",
       "      <td>64962</td>\n",
       "      <td>40607</td>\n",
       "      <td>14117</td>\n",
       "    </tr>\n",
       "    <tr>\n",
       "      <th>3</th>\n",
       "      <td>2005</td>\n",
       "      <td>4</td>\n",
       "      <td>69677</td>\n",
       "      <td>60804</td>\n",
       "      <td>21010</td>\n",
       "    </tr>\n",
       "    <tr>\n",
       "      <th>4</th>\n",
       "      <td>2005</td>\n",
       "      <td>5</td>\n",
       "      <td>22304</td>\n",
       "      <td>3427</td>\n",
       "      <td>1575</td>\n",
       "    </tr>\n",
       "  </tbody>\n",
       "</table>\n",
       "</div>"
      ],
      "text/plain": [
       "   ADMYR  SUB1  count_primary  count_secondary  count_tertiary\n",
       "0   2005     1           6518           195516          315073\n",
       "1   2005     2         179564            59552           18269\n",
       "2   2005     3          64962            40607           14117\n",
       "3   2005     4          69677            60804           21010\n",
       "4   2005     5          22304             3427            1575"
      ]
     },
     "execution_count": 3,
     "metadata": {},
     "output_type": "execute_result"
    }
   ],
   "source": [
    "us_data.head()"
   ]
  },
  {
   "cell_type": "code",
   "execution_count": 4,
   "metadata": {},
   "outputs": [],
   "source": [
    "# sum the counts columns to arrive at a total_count for both datasets\n",
    "colorado_data['count_total'] = colorado_data['count_primary'] +  colorado_data['count_secondary'] + colorado_data['count_tertiary']\n",
    "us_data['count_total'] = us_data['count_primary'] +  us_data['count_secondary'] + us_data['count_tertiary']\n",
    "\n",
    "# create percent_adm as total admissions for substance divided by the total by year\n",
    "\n",
    "# need total per year\n",
    "colorado_year_total = pd.DataFrame(colorado_data.groupby(['ADMYR'])['count_total'].sum())\n",
    "us_year_total = pd.DataFrame(us_data.groupby(['ADMYR'])['count_total'].sum())\n",
    "colorado_year_total.rename(columns={\"count_total\": \"year_total\"},inplace=True)\n",
    "us_year_total.rename(columns={\"count_total\": \"year_total\"},inplace=True)"
   ]
  },
  {
   "cell_type": "code",
   "execution_count": 5,
   "metadata": {},
   "outputs": [],
   "source": [
    "# create new percentage field using the above data to show the percentage of that year's admissions for each substance\n",
    "colorado_data = colorado_data.merge(colorado_year_total, left_on='ADMYR', right_on='ADMYR', how='outer', validate='many_to_one')\n",
    "us_data = us_data.merge(us_year_total, left_on='ADMYR', right_on='ADMYR', how='outer', validate='many_to_one')\n",
    "\n",
    "colorado_data['percent_total'] = (colorado_data['count_total']/colorado_data['year_total']) * 100\n",
    "us_data['percent_total'] = (us_data['count_total']/us_data['year_total']) * 100"
   ]
  },
  {
   "cell_type": "code",
   "execution_count": 6,
   "metadata": {},
   "outputs": [],
   "source": [
    "# #SUB1, SUB2, and SUB3 - change numeric to text\n",
    "# colorado_data.loc[colorado_data['SUB1'] == 1, ['SUB1']] = 'None' \n",
    "# colorado_data.loc[colorado_data['SUB1'] == 2, ['SUB1']] = 'Alcohol' \n",
    "# colorado_data.loc[colorado_data['SUB1'] == 3, ['SUB1']] = 'Cocaine/crack' \n",
    "# colorado_data.loc[colorado_data['SUB1'] == 4, ['SUB1']] = 'Marijuana/hashish' \n",
    "# colorado_data.loc[colorado_data['SUB1'] == 5, ['SUB1']] = 'Heroin' \n",
    "# colorado_data.loc[colorado_data['SUB1'] == 6, ['SUB1']] = 'Non-prescription methadone' \n",
    "# colorado_data.loc[colorado_data['SUB1'] == 7, ['SUB1']] = 'Other opiates/synthetics' \n",
    "# colorado_data.loc[colorado_data['SUB1'] == 8, ['SUB1']] = 'PCP' \n",
    "# colorado_data.loc[colorado_data['SUB1'] == 9, ['SUB1']] = 'Other hallucinogens' \n",
    "# colorado_data.loc[colorado_data['SUB1'] == 10, ['SUB1']] = 'Methamphetamine' \n",
    "# colorado_data.loc[colorado_data['SUB1'] == 11, ['SUB1']] = 'Other amphetamines' \n",
    "# colorado_data.loc[colorado_data['SUB1'] == 12, ['SUB1']] = 'Other stimulants' \n",
    "# colorado_data.loc[colorado_data['SUB1'] == 13, ['SUB1']] = 'Benzodiazepines' \n",
    "# colorado_data.loc[colorado_data['SUB1'] == 14, ['SUB1']] = 'Other non-benzo tranquilizers' \n",
    "# colorado_data.loc[colorado_data['SUB1'] == 15, ['SUB1']] = 'Barbiturates' \n",
    "# colorado_data.loc[colorado_data['SUB1'] == 16, ['SUB1']] = 'Other non-barb. sedatives/hypnotics' \n",
    "# colorado_data.loc[colorado_data['SUB1'] == 17, ['SUB1']] = 'Inhalants' \n",
    "# colorado_data.loc[colorado_data['SUB1'] == 18, ['SUB1']] = 'OTC medications' \n",
    "# colorado_data.loc[colorado_data['SUB1'] == 19, ['SUB1']] = 'Other' \n",
    "# us_data.loc[us_data['SUB1'] == 1, ['SUB1']] = 'None' \n",
    "# us_data.loc[us_data['SUB1'] == 2, ['SUB1']] = 'Alcohol' \n",
    "# us_data.loc[us_data['SUB1'] == 3, ['SUB1']] = 'Cocaine/crack' \n",
    "# us_data.loc[us_data['SUB1'] == 4, ['SUB1']] = 'Marijuana/hashish' \n",
    "# us_data.loc[us_data['SUB1'] == 5, ['SUB1']] = 'Heroin' \n",
    "# us_data.loc[us_data['SUB1'] == 6, ['SUB1']] = 'Non-prescription methadone' \n",
    "# us_data.loc[us_data['SUB1'] == 7, ['SUB1']] = 'Other opiates/synthetics' \n",
    "# us_data.loc[us_data['SUB1'] == 8, ['SUB1']] = 'PCP' \n",
    "# us_data.loc[us_data['SUB1'] == 9, ['SUB1']] = 'Other hallucinogens' \n",
    "# us_data.loc[us_data['SUB1'] == 10, ['SUB1']] = 'Methamphetamine' \n",
    "# us_data.loc[us_data['SUB1'] == 11, ['SUB1']] = 'Other amphetamines' \n",
    "# us_data.loc[us_data['SUB1'] == 12, ['SUB1']] = 'Other stimulants' \n",
    "# us_data.loc[us_data['SUB1'] == 13, ['SUB1']] = 'Benzodiazepines' \n",
    "# us_data.loc[us_data['SUB1'] == 14, ['SUB1']] = 'Other non-benzo tranquilizers' \n",
    "# us_data.loc[us_data['SUB1'] == 15, ['SUB1']] = 'Barbiturates' \n",
    "# us_data.loc[us_data['SUB1'] == 16, ['SUB1']] = 'Other non-barb. sedatives/hypnotics' \n",
    "# us_data.loc[us_data['SUB1'] == 17, ['SUB1']] = 'Inhalants' \n",
    "# us_data.loc[us_data['SUB1'] == 18, ['SUB1']] = 'OTC medications' \n",
    "# us_data.loc[us_data['SUB1'] == 19, ['SUB1']] = 'Other' "
   ]
  },
  {
   "cell_type": "code",
   "execution_count": 7,
   "metadata": {},
   "outputs": [],
   "source": [
    "# Create multiline plot showing different substance abuse\n",
    "# Pull Marijuana data only\n",
    "colorado_marijuana = colorado_data.loc[colorado_data['SUB1'] == 4]\n",
    "us_marijuana = us_data.loc[us_data['SUB1'] == 4]\n",
    "\n",
    "# create lists for plotting\n",
    "colorado_list = colorado_marijuana['percent_total'].to_list()\n",
    "us_list = us_marijuana['percent_total'].to_list()\n",
    "\n",
    "colorado_num = colorado_marijuana['count_total'].to_list()\n",
    "us_num = us_marijuana['count_total'].to_list()"
   ]
  },
  {
   "cell_type": "code",
   "execution_count": 8,
   "metadata": {},
   "outputs": [],
   "source": [
    "# Set x-axis\n",
    "x_axis = np.arange(2005,2019, 1)"
   ]
  },
  {
   "cell_type": "code",
   "execution_count": 30,
   "metadata": {},
   "outputs": [
    {
     "data": {
      "image/png": "[encoded data removed]",
      "text/plain": [
       "<Figure size 432x288 with 1 Axes>"
      ]
     },
     "metadata": {
      "needs_background": "light"
     },
     "output_type": "display_data"
    }
   ],
   "source": [
    "# Create percentage plot\n",
    "colorado, = plt.plot(x_axis, colorado_list, 'green', label=\"Colorado\")\n",
    "us, = plt.plot(x_axis, us_list, 'blue', label=\"US\")\n",
    "# add styling\n",
    "plt.title(\"Percentage of Substance Abuse Treatment\\nInvolving Marijuana 2005-2018\")\n",
    "plt.xlabel(\"Year\")\n",
    "plt.ylabel(\"Percentage of Total Admissions\")\n",
    "plt.ylim(0,20)\n",
    "plt.legend(handles=[colorado, us], loc=\"best\")\n",
    "plt.savefig(\"Output/percentage_marijuana_sub_abuse_admissions\")\n",
    "plt.show()"
   ]
  },
  {
   "cell_type": "code",
   "execution_count": 34,
   "metadata": {},
   "outputs": [
    {
     "data": {
      "image/png": "[encoded data removed]",
      "text/plain": [
       "<Figure size 432x288 with 2 Axes>"
      ]
     },
     "metadata": {
      "needs_background": "light"
     },
     "output_type": "display_data"
    }
   ],
   "source": [
    "# Create total_count plot\n",
    "#colorado_count, = plt.plot(x_axis, colorado_num, 'green', label=\"Colorado\")\n",
    "#us_count, = plt.plot(x_axis, us_num, 'blue', label=\"US\")\n",
    "\n",
    "# Since the numbers are vastly different for Colorado and the entire U.S., we need a two-scale plot that will show the \n",
    "# data more accurately.\n",
    "fig, ax1 = plt.subplots()\n",
    "ax1.set_ylabel('Total Admissions - Colorado')\n",
    "ax1.plot(x_axis, colorado_num, 'green', label='Colorado')\n",
    "ax1.tick_params(axis='y', labelcolor='green')\n",
    "ax1.set_xlabel('Year')\n",
    "ax1.set_ylim(0,20000)\n",
    "         \n",
    "ax2 = ax1.twinx() #instantiate a second axis that shared the same x-axis\n",
    "ax2.set_ylabel('Total Admissions - US')\n",
    "ax2.plot(x_axis, us_num, 'blue', label='US')\n",
    "ax2.tick_params(axis='y', labelcolor='blue')\n",
    "ax2.set_ylim(0,420000)\n",
    "         \n",
    "fig.tight_layout()\n",
    "plt.title(\"Number of Substance Abuse Treatment Admissions\\nInvolving Marijuana 2005-2018\")\n",
    "\n",
    "plt.savefig(\"Output/totNumber_marijuana_sub_abuse_admissions.png\", bbox_inches='tight')\n",
    "plt.show()\n",
    "\n",
    "\n"
   ]
  },
  {
   "cell_type": "code",
   "execution_count": null,
   "metadata": {},
   "outputs": [],
   "source": []
  }
 ],
 "metadata": {
  "kernelspec": {
   "display_name": "Python 3",
   "language": "python",
   "name": "python3"
  },
  "language_info": {
   "codemirror_mode": {
    "name": "ipython",
    "version": 3
   },
   "file_extension": ".py",
   "mimetype": "text/x-python",
   "name": "python",
   "nbconvert_exporter": "python",
   "pygments_lexer": "ipython3",
   "version": "3.8.3"
  }
 },
 "nbformat": 4,
 "nbformat_minor": 4
}
