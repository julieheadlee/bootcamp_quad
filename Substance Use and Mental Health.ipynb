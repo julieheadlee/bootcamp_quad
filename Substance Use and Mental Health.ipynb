{
 "cells": [
  {
   "cell_type": "markdown",
   "metadata": {},
   "source": [
    "The effect of substance use (focus on marijuana) on mental illness/mental health"
   ]
  },
  {
   "cell_type": "markdown",
   "metadata": {},
   "source": [
    "There appears to be comorbity between substance use disorders and mental illnesses. While it is difficult to establish causality, along with substance abuse we are analyzing mental health to better understand the association between cannabis use and mental health outcomes. "
   ]
  },
  {
   "cell_type": "code",
   "execution_count": 248,
   "metadata": {},
   "outputs": [],
   "source": [
    "# Dependencies and Setup\n",
    "import matplotlib.pyplot as plt\n",
    "import pandas as pd\n",
    "import numpy as np\n",
    "import requests\n",
    "import time\n",
    "import seaborn as sns\n",
    "from scipy.stats import linregress\n",
    "\n",
    "# Study Data Files\n",
    "#CDPHE Open Data\n",
    "marijuana_use_file = \"Data/Marijuana_Use_in_Adults_colorado.csv\"\n",
    "#SAMHSA\n",
    "mental_health_file = \"Data/mental_health.csv\"\n",
    "#SAMHSA\n",
    "colorado_data_dsm = \"Data/clean_colorado_data.csv\"\n",
    "\n",
    "# Load the data\n",
    "mental_health = pd.read_csv(mental_health_file)\n",
    "marijuana_use_colorado = pd.read_csv(marijuana_use_file)\n",
    "colorado_data_dsm = pd.read_csv(colorado_data_dsm)"
   ]
  },
  {
   "cell_type": "code",
   "execution_count": 249,
   "metadata": {},
   "outputs": [
    {
     "data": {
      "text/html": [
       "<div>\n",
       "<style scoped>\n",
       "    .dataframe tbody tr th:only-of-type {\n",
       "        vertical-align: middle;\n",
       "    }\n",
       "\n",
       "    .dataframe tbody tr th {\n",
       "        vertical-align: top;\n",
       "    }\n",
       "\n",
       "    .dataframe thead th {\n",
       "        text-align: right;\n",
       "    }\n",
       "</style>\n",
       "<table border=\"1\" class=\"dataframe\">\n",
       "  <thead>\n",
       "    <tr style=\"text-align: right;\">\n",
       "      <th></th>\n",
       "      <th>Demographic Characteristic</th>\n",
       "      <th>Substance Use Problem (2018)</th>\n",
       "      <th>Substance Use Problem (2019)</th>\n",
       "      <th>Mental Health Issue (2018)</th>\n",
       "      <th>Mental Health Issue (2019)</th>\n",
       "    </tr>\n",
       "  </thead>\n",
       "  <tbody>\n",
       "    <tr>\n",
       "      <th>0</th>\n",
       "      <td>18-25</td>\n",
       "      <td>2367.0</td>\n",
       "      <td>2504.0</td>\n",
       "      <td>8898.0</td>\n",
       "      <td>10378.0</td>\n",
       "    </tr>\n",
       "    <tr>\n",
       "      <th>1</th>\n",
       "      <td>26-49</td>\n",
       "      <td>12662.0</td>\n",
       "      <td>13184.0</td>\n",
       "      <td>20239.0</td>\n",
       "      <td>22813.0</td>\n",
       "    </tr>\n",
       "    <tr>\n",
       "      <th>2</th>\n",
       "      <td>50+</td>\n",
       "      <td>12178.0</td>\n",
       "      <td>12512.0</td>\n",
       "      <td>14512.0</td>\n",
       "      <td>15297.0</td>\n",
       "    </tr>\n",
       "  </tbody>\n",
       "</table>\n",
       "</div>"
      ],
      "text/plain": [
       "  Demographic Characteristic  Substance Use Problem (2018)  \\\n",
       "0                      18-25                        2367.0   \n",
       "1                      26-49                       12662.0   \n",
       "2                        50+                       12178.0   \n",
       "\n",
       "   Substance Use Problem (2019)  Mental Health Issue (2018)  \\\n",
       "0                        2504.0                      8898.0   \n",
       "1                       13184.0                     20239.0   \n",
       "2                       12512.0                     14512.0   \n",
       "\n",
       "   Mental Health Issue (2019)  \n",
       "0                     10378.0  \n",
       "1                     22813.0  \n",
       "2                     15297.0  "
      ]
     },
     "execution_count": 249,
     "metadata": {},
     "output_type": "execute_result"
    }
   ],
   "source": [
    "mental_health"
   ]
  },
  {
   "cell_type": "code",
   "execution_count": 250,
   "metadata": {
    "scrolled": true
   },
   "outputs": [
    {
     "data": {
      "image/png": "[encoded data removed]",
      "text/plain": [
       "<Figure size 432x288 with 1 Axes>"
      ]
     },
     "metadata": {
      "needs_background": "light"
     },
     "output_type": "display_data"
    },
    {
     "data": {
      "text/plain": [
       "<Figure size 432x288 with 0 Axes>"
      ]
     },
     "metadata": {},
     "output_type": "display_data"
    }
   ],
   "source": [
    "# Set bar width\n",
    "barWidth = 0.2\n",
    "\n",
    "#set height of bar\n",
    "bar1 = [2367, 12662, 12178] \n",
    "bar2 = [2504, 13184, 12512]\n",
    "bar3 = [8898, 20239, 14512]\n",
    "bar4 = [10378, 22813, 15297]\n",
    "\n",
    "# Set position of bar on X axis\n",
    "r1 = np.arange(len(bar1))\n",
    "r2 = [x + barWidth for x in r1]\n",
    "r3 = [x + barWidth for x in r2]\n",
    "r4 = [x + barWidth for x in r3]\n",
    "\n",
    "# Make the plot\n",
    "plt.bar(r1, bar1, color='#803526', width=barWidth, \n",
    "        edgecolor='white', label='Substance Use Problem (2018)')\n",
    "plt.bar(r2, bar2, color='#a1452b', width=barWidth, \n",
    "        edgecolor='white', label='Substance Use Problem (2019)')\n",
    "plt.bar(r3, bar3, color='#2d7f5e', width=barWidth, \n",
    "        edgecolor='white', label='Mental Health Issue (2018)')\n",
    "plt.bar(r4, bar4, color='#279c6b', width=barWidth, \n",
    "        edgecolor='white', label='Mental Health Issue (2019)')\n",
    "\n",
    "# Add xticks on the middle of the group bars\n",
    "plt.ylabel(\"Number of People\")\n",
    "plt.title(\"Comorbidity of Substance Use and Mental Health Issues (2018-19)\")\n",
    "\n",
    "#plt.xlabel('group', fontweight='bold')\n",
    "plt.xticks([r + barWidth for r in range(len(bar1))], \n",
    "           ['18-25', '26-49', '50+'])\n",
    " \n",
    "# Create legend & Show graphic\n",
    "plt.legend()\n",
    "plt.show()\n",
    "\n",
    "plt.savefig('comorbidity.png')"
   ]
  },
  {
   "cell_type": "code",
   "execution_count": 251,
   "metadata": {},
   "outputs": [
    {
     "data": {
      "text/plain": [
       "<AxesSubplot:>"
      ]
     },
     "execution_count": 251,
     "metadata": {},
     "output_type": "execute_result"
    },
    {
     "data": {
      "image/png": "[encoded data removed]",
      "text/plain": [
       "<Figure size 432x288 with 1 Axes>"
      ]
     },
     "metadata": {
      "needs_background": "light"
     },
     "output_type": "display_data"
    }
   ],
   "source": [
    "mental_health.plot()"
   ]
  },
  {
   "cell_type": "code",
   "execution_count": 252,
   "metadata": {},
   "outputs": [
    {
     "data": {
      "text/html": [
       "<div>\n",
       "<style scoped>\n",
       "    .dataframe tbody tr th:only-of-type {\n",
       "        vertical-align: middle;\n",
       "    }\n",
       "\n",
       "    .dataframe tbody tr th {\n",
       "        vertical-align: top;\n",
       "    }\n",
       "\n",
       "    .dataframe thead th {\n",
       "        text-align: right;\n",
       "    }\n",
       "</style>\n",
       "<table border=\"1\" class=\"dataframe\">\n",
       "  <thead>\n",
       "    <tr style=\"text-align: right;\">\n",
       "      <th></th>\n",
       "      <th>OBJECTID</th>\n",
       "      <th>COUNTY</th>\n",
       "      <th>LABEL</th>\n",
       "      <th>Per_Adults_MJ_30day</th>\n",
       "      <th>MJ_Use_Confidence_Interval</th>\n",
       "      <th>MJ_Use_Colorado_Estimate</th>\n",
       "    </tr>\n",
       "  </thead>\n",
       "  <tbody>\n",
       "    <tr>\n",
       "      <th>0</th>\n",
       "      <td>1</td>\n",
       "      <td>LARIMER</td>\n",
       "      <td>Larimer</td>\n",
       "      <td>14.02</td>\n",
       "      <td>County/Regional Estimate 14% (95% C.I.: 11.9 -...</td>\n",
       "      <td>State Estimate 14.0% (95% C.I.: 13.5 - 14.5)</td>\n",
       "    </tr>\n",
       "    <tr>\n",
       "      <th>1</th>\n",
       "      <td>2</td>\n",
       "      <td>LAS ANIMAS</td>\n",
       "      <td>Las Animas</td>\n",
       "      <td>16.69</td>\n",
       "      <td>County/Regional Estimate 16.7% (95% C.I.: 9.6 ...</td>\n",
       "      <td>State Estimate 14.0% (95% C.I.: 13.5 - 14.5)</td>\n",
       "    </tr>\n",
       "    <tr>\n",
       "      <th>2</th>\n",
       "      <td>3</td>\n",
       "      <td>FREMONT</td>\n",
       "      <td>Fremont</td>\n",
       "      <td>15.53</td>\n",
       "      <td>County/Regional Estimate 15.5% (95% C.I.: 10.3...</td>\n",
       "      <td>State Estimate 14.0% (95% C.I.: 13.5 - 14.5)</td>\n",
       "    </tr>\n",
       "    <tr>\n",
       "      <th>3</th>\n",
       "      <td>4</td>\n",
       "      <td>GUNNISON</td>\n",
       "      <td>Gunnison</td>\n",
       "      <td>19.70</td>\n",
       "      <td>County/Regional Estimate 19.7% (95% C.I.: 10.1...</td>\n",
       "      <td>State Estimate 14.0% (95% C.I.: 13.5 - 14.5)</td>\n",
       "    </tr>\n",
       "    <tr>\n",
       "      <th>4</th>\n",
       "      <td>5</td>\n",
       "      <td>CONEJOS</td>\n",
       "      <td>Conejos</td>\n",
       "      <td>9.85</td>\n",
       "      <td>County/Regional Estimate 9.9% (95% C.I.: 2.6 -...</td>\n",
       "      <td>State Estimate 14.0% (95% C.I.: 13.5 - 14.5)</td>\n",
       "    </tr>\n",
       "  </tbody>\n",
       "</table>\n",
       "</div>"
      ],
      "text/plain": [
       "   OBJECTID      COUNTY       LABEL  Per_Adults_MJ_30day  \\\n",
       "0         1     LARIMER     Larimer                14.02   \n",
       "1         2  LAS ANIMAS  Las Animas                16.69   \n",
       "2         3     FREMONT     Fremont                15.53   \n",
       "3         4    GUNNISON    Gunnison                19.70   \n",
       "4         5     CONEJOS     Conejos                 9.85   \n",
       "\n",
       "                          MJ_Use_Confidence_Interval  \\\n",
       "0  County/Regional Estimate 14% (95% C.I.: 11.9 -...   \n",
       "1  County/Regional Estimate 16.7% (95% C.I.: 9.6 ...   \n",
       "2  County/Regional Estimate 15.5% (95% C.I.: 10.3...   \n",
       "3  County/Regional Estimate 19.7% (95% C.I.: 10.1...   \n",
       "4  County/Regional Estimate 9.9% (95% C.I.: 2.6 -...   \n",
       "\n",
       "                       MJ_Use_Colorado_Estimate  \n",
       "0  State Estimate 14.0% (95% C.I.: 13.5 - 14.5)  \n",
       "1  State Estimate 14.0% (95% C.I.: 13.5 - 14.5)  \n",
       "2  State Estimate 14.0% (95% C.I.: 13.5 - 14.5)  \n",
       "3  State Estimate 14.0% (95% C.I.: 13.5 - 14.5)  \n",
       "4  State Estimate 14.0% (95% C.I.: 13.5 - 14.5)  "
      ]
     },
     "execution_count": 252,
     "metadata": {},
     "output_type": "execute_result"
    }
   ],
   "source": [
    "# View the data\n",
    "marijuana_use_colorado.head()"
   ]
  },
  {
   "cell_type": "markdown",
   "metadata": {},
   "source": [
    "The data columns are:\n",
    "\n",
    "ADMYR: Year of admission\n",
    "CASEID: Unique identifier for each admission\n",
    "SERVICES: Service setting at admission\n",
    "SUB1: Substance use at admission (primary)\n",
    "SUB2: Substance use at admission (secondary)\n",
    "SUB3: Substance use at admission (tertiary)\n",
    "MARFLG: Marijuana/hashish reported at admission\n",
    "PSYPROB: Co-occurring mental and substance use disorders"
   ]
  },
  {
   "cell_type": "code",
   "execution_count": 253,
   "metadata": {},
   "outputs": [
    {
     "data": {
      "text/html": [
       "<div>\n",
       "<style scoped>\n",
       "    .dataframe tbody tr th:only-of-type {\n",
       "        vertical-align: middle;\n",
       "    }\n",
       "\n",
       "    .dataframe tbody tr th {\n",
       "        vertical-align: top;\n",
       "    }\n",
       "\n",
       "    .dataframe thead th {\n",
       "        text-align: right;\n",
       "    }\n",
       "</style>\n",
       "<table border=\"1\" class=\"dataframe\">\n",
       "  <thead>\n",
       "    <tr style=\"text-align: right;\">\n",
       "      <th></th>\n",
       "      <th>Unnamed: 0</th>\n",
       "      <th>ADMYR</th>\n",
       "      <th>CASEID</th>\n",
       "      <th>SERVICES</th>\n",
       "      <th>SUB1</th>\n",
       "      <th>SUB2</th>\n",
       "      <th>SUB3</th>\n",
       "      <th>MARFLG</th>\n",
       "      <th>DSMCRIT</th>\n",
       "      <th>PSYPROB</th>\n",
       "    </tr>\n",
       "  </thead>\n",
       "  <tbody>\n",
       "    <tr>\n",
       "      <th>0</th>\n",
       "      <td>706</td>\n",
       "      <td>2018</td>\n",
       "      <td>20181674745</td>\n",
       "      <td>7</td>\n",
       "      <td>5</td>\n",
       "      <td>4</td>\n",
       "      <td>10</td>\n",
       "      <td>1</td>\n",
       "      <td>5</td>\n",
       "      <td>1</td>\n",
       "    </tr>\n",
       "    <tr>\n",
       "      <th>1</th>\n",
       "      <td>778</td>\n",
       "      <td>2018</td>\n",
       "      <td>20181598312</td>\n",
       "      <td>7</td>\n",
       "      <td>5</td>\n",
       "      <td>4</td>\n",
       "      <td>10</td>\n",
       "      <td>1</td>\n",
       "      <td>5</td>\n",
       "      <td>1</td>\n",
       "    </tr>\n",
       "    <tr>\n",
       "      <th>2</th>\n",
       "      <td>987</td>\n",
       "      <td>2018</td>\n",
       "      <td>20181669968</td>\n",
       "      <td>7</td>\n",
       "      <td>5</td>\n",
       "      <td>1</td>\n",
       "      <td>1</td>\n",
       "      <td>0</td>\n",
       "      <td>5</td>\n",
       "      <td>1</td>\n",
       "    </tr>\n",
       "    <tr>\n",
       "      <th>3</th>\n",
       "      <td>1033</td>\n",
       "      <td>2018</td>\n",
       "      <td>20181726629</td>\n",
       "      <td>7</td>\n",
       "      <td>5</td>\n",
       "      <td>1</td>\n",
       "      <td>1</td>\n",
       "      <td>0</td>\n",
       "      <td>5</td>\n",
       "      <td>2</td>\n",
       "    </tr>\n",
       "    <tr>\n",
       "      <th>4</th>\n",
       "      <td>1062</td>\n",
       "      <td>2018</td>\n",
       "      <td>20181897353</td>\n",
       "      <td>7</td>\n",
       "      <td>5</td>\n",
       "      <td>1</td>\n",
       "      <td>1</td>\n",
       "      <td>0</td>\n",
       "      <td>5</td>\n",
       "      <td>2</td>\n",
       "    </tr>\n",
       "  </tbody>\n",
       "</table>\n",
       "</div>"
      ],
      "text/plain": [
       "   Unnamed: 0  ADMYR       CASEID  SERVICES  SUB1  SUB2  SUB3  MARFLG  \\\n",
       "0         706   2018  20181674745         7     5     4    10       1   \n",
       "1         778   2018  20181598312         7     5     4    10       1   \n",
       "2         987   2018  20181669968         7     5     1     1       0   \n",
       "3        1033   2018  20181726629         7     5     1     1       0   \n",
       "4        1062   2018  20181897353         7     5     1     1       0   \n",
       "\n",
       "   DSMCRIT  PSYPROB  \n",
       "0        5        1  \n",
       "1        5        1  \n",
       "2        5        1  \n",
       "3        5        2  \n",
       "4        5        2  "
      ]
     },
     "execution_count": 253,
     "metadata": {},
     "output_type": "execute_result"
    }
   ],
   "source": [
    "colorado_data_dsm.head()"
   ]
  },
  {
   "cell_type": "code",
   "execution_count": 254,
   "metadata": {},
   "outputs": [
    {
     "data": {
      "text/plain": [
       "Unnamed: 0    930495\n",
       "ADMYR         930495\n",
       "CASEID        930495\n",
       "SERVICES      930495\n",
       "SUB1          930495\n",
       "SUB2          930495\n",
       "SUB3          930495\n",
       "MARFLG        930495\n",
       "DSMCRIT       930495\n",
       "PSYPROB       930495\n",
       "dtype: int64"
      ]
     },
     "execution_count": 254,
     "metadata": {},
     "output_type": "execute_result"
    }
   ],
   "source": [
    "colorado_data_dsm.count()"
   ]
  },
  {
   "cell_type": "code",
   "execution_count": 255,
   "metadata": {},
   "outputs": [
    {
     "data": {
      "text/plain": [
       "0         2018\n",
       "1         2018\n",
       "2         2018\n",
       "3         2018\n",
       "4         2018\n",
       "          ... \n",
       "930490    2009\n",
       "930491    2009\n",
       "930492    2009\n",
       "930493    2009\n",
       "930494    2009\n",
       "Name: ADMYR, Length: 919729, dtype: int64"
      ]
     },
     "execution_count": 255,
     "metadata": {},
     "output_type": "execute_result"
    }
   ],
   "source": [
    "colorado_df = pd.DataFrame(colorado_data_dsm)\n",
    "df2_7 = colorado_df.loc[(colorado_df['DSMCRIT'] == 7)]\n",
    "df2_not_7 = colorado_df.loc[(colorado_df['DSMCRIT'] != 7)]\n",
    "df2_not_7[\"ADMYR\"]"
   ]
  },
  {
   "cell_type": "code",
   "execution_count": 256,
   "metadata": {},
   "outputs": [
    {
     "data": {
      "image/png": "[encoded data removed]",
      "text/plain": [
       "<Figure size 432x288 with 1 Axes>"
      ]
     },
     "metadata": {
      "needs_background": "light"
     },
     "output_type": "display_data"
    }
   ],
   "source": [
    "trend_df2_7 =df2_7['ADMYR'].value_counts().sort_index().plot(kind='line');"
   ]
  },
  {
   "cell_type": "code",
   "execution_count": 257,
   "metadata": {},
   "outputs": [
    {
     "data": {
      "image/png": "[encoded data removed]",
      "text/plain": [
       "<Figure size 432x288 with 1 Axes>"
      ]
     },
     "metadata": {
      "needs_background": "light"
     },
     "output_type": "display_data"
    }
   ],
   "source": [
    "trend_df2_not_7 =df2_not_7['ADMYR'].value_counts().sort_index().plot(kind='line');"
   ]
  },
  {
   "cell_type": "code",
   "execution_count": 258,
   "metadata": {},
   "outputs": [
    {
     "data": {
      "image/png": "[encoded data removed]",
      "text/plain": [
       "<Figure size 432x288 with 1 Axes>"
      ]
     },
     "metadata": {
      "needs_background": "light"
     },
     "output_type": "display_data"
    }
   ],
   "source": [
    "trend_df2_7 =df2_7['ADMYR'].value_counts().sort_index().plot(kind='line');\n",
    "trend_df2_not_7 =df2_not_7['ADMYR'].value_counts().sort_index().plot(kind='line');"
   ]
  },
  {
   "cell_type": "code",
   "execution_count": 307,
   "metadata": {},
   "outputs": [
    {
     "data": {
      "text/html": [
       "<div>\n",
       "<style scoped>\n",
       "    .dataframe tbody tr th:only-of-type {\n",
       "        vertical-align: middle;\n",
       "    }\n",
       "\n",
       "    .dataframe tbody tr th {\n",
       "        vertical-align: top;\n",
       "    }\n",
       "\n",
       "    .dataframe thead tr th {\n",
       "        text-align: left;\n",
       "    }\n",
       "\n",
       "    .dataframe thead tr:last-of-type th {\n",
       "        text-align: right;\n",
       "    }\n",
       "</style>\n",
       "<table border=\"1\" class=\"dataframe\">\n",
       "  <thead>\n",
       "    <tr>\n",
       "      <th></th>\n",
       "      <th>Unnamed: 0</th>\n",
       "      <th>CASEID</th>\n",
       "      <th>SERVICES</th>\n",
       "      <th>SUB1</th>\n",
       "      <th>SUB2</th>\n",
       "      <th>SUB3</th>\n",
       "      <th>MARFLG</th>\n",
       "      <th>DSMCRIT</th>\n",
       "      <th>PSYPROB</th>\n",
       "    </tr>\n",
       "    <tr>\n",
       "      <th></th>\n",
       "      <th>count</th>\n",
       "      <th>count</th>\n",
       "      <th>count</th>\n",
       "      <th>count</th>\n",
       "      <th>count</th>\n",
       "      <th>count</th>\n",
       "      <th>count</th>\n",
       "      <th>count</th>\n",
       "      <th>count</th>\n",
       "    </tr>\n",
       "    <tr>\n",
       "      <th>ADMYR</th>\n",
       "      <th></th>\n",
       "      <th></th>\n",
       "      <th></th>\n",
       "      <th></th>\n",
       "      <th></th>\n",
       "      <th></th>\n",
       "      <th></th>\n",
       "      <th></th>\n",
       "      <th></th>\n",
       "    </tr>\n",
       "  </thead>\n",
       "  <tbody>\n",
       "    <tr>\n",
       "      <th>2005</th>\n",
       "      <td>63871</td>\n",
       "      <td>63871</td>\n",
       "      <td>63871</td>\n",
       "      <td>63871</td>\n",
       "      <td>63871</td>\n",
       "      <td>63871</td>\n",
       "      <td>63871</td>\n",
       "      <td>63871</td>\n",
       "      <td>63871</td>\n",
       "    </tr>\n",
       "    <tr>\n",
       "      <th>2006</th>\n",
       "      <td>63189</td>\n",
       "      <td>63189</td>\n",
       "      <td>63189</td>\n",
       "      <td>63189</td>\n",
       "      <td>63189</td>\n",
       "      <td>63189</td>\n",
       "      <td>63189</td>\n",
       "      <td>63189</td>\n",
       "      <td>63189</td>\n",
       "    </tr>\n",
       "    <tr>\n",
       "      <th>2007</th>\n",
       "      <td>60599</td>\n",
       "      <td>60599</td>\n",
       "      <td>60599</td>\n",
       "      <td>60599</td>\n",
       "      <td>60599</td>\n",
       "      <td>60599</td>\n",
       "      <td>60599</td>\n",
       "      <td>60599</td>\n",
       "      <td>60599</td>\n",
       "    </tr>\n",
       "    <tr>\n",
       "      <th>2008</th>\n",
       "      <td>62293</td>\n",
       "      <td>62293</td>\n",
       "      <td>62293</td>\n",
       "      <td>62293</td>\n",
       "      <td>62293</td>\n",
       "      <td>62293</td>\n",
       "      <td>62293</td>\n",
       "      <td>62293</td>\n",
       "      <td>62293</td>\n",
       "    </tr>\n",
       "    <tr>\n",
       "      <th>2009</th>\n",
       "      <td>62537</td>\n",
       "      <td>62537</td>\n",
       "      <td>62537</td>\n",
       "      <td>62537</td>\n",
       "      <td>62537</td>\n",
       "      <td>62537</td>\n",
       "      <td>62537</td>\n",
       "      <td>62537</td>\n",
       "      <td>62537</td>\n",
       "    </tr>\n",
       "    <tr>\n",
       "      <th>2010</th>\n",
       "      <td>62669</td>\n",
       "      <td>62669</td>\n",
       "      <td>62669</td>\n",
       "      <td>62669</td>\n",
       "      <td>62669</td>\n",
       "      <td>62669</td>\n",
       "      <td>62669</td>\n",
       "      <td>62669</td>\n",
       "      <td>62669</td>\n",
       "    </tr>\n",
       "    <tr>\n",
       "      <th>2011</th>\n",
       "      <td>66673</td>\n",
       "      <td>66673</td>\n",
       "      <td>66673</td>\n",
       "      <td>66673</td>\n",
       "      <td>66673</td>\n",
       "      <td>66673</td>\n",
       "      <td>66673</td>\n",
       "      <td>66673</td>\n",
       "      <td>66673</td>\n",
       "    </tr>\n",
       "    <tr>\n",
       "      <th>2012</th>\n",
       "      <td>74956</td>\n",
       "      <td>74956</td>\n",
       "      <td>74956</td>\n",
       "      <td>74956</td>\n",
       "      <td>74956</td>\n",
       "      <td>74956</td>\n",
       "      <td>74956</td>\n",
       "      <td>74956</td>\n",
       "      <td>74956</td>\n",
       "    </tr>\n",
       "    <tr>\n",
       "      <th>2013</th>\n",
       "      <td>72481</td>\n",
       "      <td>72481</td>\n",
       "      <td>72481</td>\n",
       "      <td>72481</td>\n",
       "      <td>72481</td>\n",
       "      <td>72481</td>\n",
       "      <td>72481</td>\n",
       "      <td>72481</td>\n",
       "      <td>72481</td>\n",
       "    </tr>\n",
       "    <tr>\n",
       "      <th>2014</th>\n",
       "      <td>73727</td>\n",
       "      <td>73727</td>\n",
       "      <td>73727</td>\n",
       "      <td>73727</td>\n",
       "      <td>73727</td>\n",
       "      <td>73727</td>\n",
       "      <td>73727</td>\n",
       "      <td>73727</td>\n",
       "      <td>73727</td>\n",
       "    </tr>\n",
       "    <tr>\n",
       "      <th>2015</th>\n",
       "      <td>60667</td>\n",
       "      <td>60667</td>\n",
       "      <td>60667</td>\n",
       "      <td>60667</td>\n",
       "      <td>60667</td>\n",
       "      <td>60667</td>\n",
       "      <td>60667</td>\n",
       "      <td>60667</td>\n",
       "      <td>60667</td>\n",
       "    </tr>\n",
       "    <tr>\n",
       "      <th>2016</th>\n",
       "      <td>70466</td>\n",
       "      <td>70466</td>\n",
       "      <td>70466</td>\n",
       "      <td>70466</td>\n",
       "      <td>70466</td>\n",
       "      <td>70466</td>\n",
       "      <td>70466</td>\n",
       "      <td>70466</td>\n",
       "      <td>70466</td>\n",
       "    </tr>\n",
       "    <tr>\n",
       "      <th>2017</th>\n",
       "      <td>63066</td>\n",
       "      <td>63066</td>\n",
       "      <td>63066</td>\n",
       "      <td>63066</td>\n",
       "      <td>63066</td>\n",
       "      <td>63066</td>\n",
       "      <td>63066</td>\n",
       "      <td>63066</td>\n",
       "      <td>63066</td>\n",
       "    </tr>\n",
       "    <tr>\n",
       "      <th>2018</th>\n",
       "      <td>62535</td>\n",
       "      <td>62535</td>\n",
       "      <td>62535</td>\n",
       "      <td>62535</td>\n",
       "      <td>62535</td>\n",
       "      <td>62535</td>\n",
       "      <td>62535</td>\n",
       "      <td>62535</td>\n",
       "      <td>62535</td>\n",
       "    </tr>\n",
       "  </tbody>\n",
       "</table>\n",
       "</div>"
      ],
      "text/plain": [
       "      Unnamed: 0 CASEID SERVICES   SUB1   SUB2   SUB3 MARFLG DSMCRIT PSYPROB\n",
       "           count  count    count  count  count  count  count   count   count\n",
       "ADMYR                                                                       \n",
       "2005       63871  63871    63871  63871  63871  63871  63871   63871   63871\n",
       "2006       63189  63189    63189  63189  63189  63189  63189   63189   63189\n",
       "2007       60599  60599    60599  60599  60599  60599  60599   60599   60599\n",
       "2008       62293  62293    62293  62293  62293  62293  62293   62293   62293\n",
       "2009       62537  62537    62537  62537  62537  62537  62537   62537   62537\n",
       "2010       62669  62669    62669  62669  62669  62669  62669   62669   62669\n",
       "2011       66673  66673    66673  66673  66673  66673  66673   66673   66673\n",
       "2012       74956  74956    74956  74956  74956  74956  74956   74956   74956\n",
       "2013       72481  72481    72481  72481  72481  72481  72481   72481   72481\n",
       "2014       73727  73727    73727  73727  73727  73727  73727   73727   73727\n",
       "2015       60667  60667    60667  60667  60667  60667  60667   60667   60667\n",
       "2016       70466  70466    70466  70466  70466  70466  70466   70466   70466\n",
       "2017       63066  63066    63066  63066  63066  63066  63066   63066   63066\n",
       "2018       62535  62535    62535  62535  62535  62535  62535   62535   62535"
      ]
     },
     "execution_count": 307,
     "metadata": {},
     "output_type": "execute_result"
    }
   ],
   "source": [
    "#df_7_agg = df2_7['ADMYR'].groupby('ADMYR').count()\n",
    "df3_7 = colorado_data_dsm.loc[(colorado_df['DSMCRIT'] == 7)]\n",
    "df_7_agg = df3_7.groupby('ADMYR').agg(['count'])\n",
    "df3_not_7 = colorado_data_dsm.loc[(colorado_df['DSMCRIT'] != 7)]\n",
    "df_not_7_agg = df3_not_7.groupby('ADMYR').agg(['count'])\n",
    "df_not_7_agg"
   ]
  },
  {
   "cell_type": "code",
   "execution_count": 302,
   "metadata": {},
   "outputs": [
    {
     "data": {
      "text/html": [
       "<div>\n",
       "<style scoped>\n",
       "    .dataframe tbody tr th:only-of-type {\n",
       "        vertical-align: middle;\n",
       "    }\n",
       "\n",
       "    .dataframe tbody tr th {\n",
       "        vertical-align: top;\n",
       "    }\n",
       "\n",
       "    .dataframe thead th {\n",
       "        text-align: right;\n",
       "    }\n",
       "</style>\n",
       "<table border=\"1\" class=\"dataframe\">\n",
       "  <thead>\n",
       "    <tr style=\"text-align: right;\">\n",
       "      <th></th>\n",
       "      <th>ADMYR</th>\n",
       "    </tr>\n",
       "  </thead>\n",
       "  <tbody>\n",
       "    <tr>\n",
       "      <th>0</th>\n",
       "      <td>2005</td>\n",
       "    </tr>\n",
       "    <tr>\n",
       "      <th>1</th>\n",
       "      <td>2006</td>\n",
       "    </tr>\n",
       "    <tr>\n",
       "      <th>2</th>\n",
       "      <td>2007</td>\n",
       "    </tr>\n",
       "    <tr>\n",
       "      <th>3</th>\n",
       "      <td>2008</td>\n",
       "    </tr>\n",
       "    <tr>\n",
       "      <th>4</th>\n",
       "      <td>2009</td>\n",
       "    </tr>\n",
       "    <tr>\n",
       "      <th>5</th>\n",
       "      <td>2010</td>\n",
       "    </tr>\n",
       "    <tr>\n",
       "      <th>6</th>\n",
       "      <td>2011</td>\n",
       "    </tr>\n",
       "    <tr>\n",
       "      <th>7</th>\n",
       "      <td>2012</td>\n",
       "    </tr>\n",
       "    <tr>\n",
       "      <th>8</th>\n",
       "      <td>2013</td>\n",
       "    </tr>\n",
       "    <tr>\n",
       "      <th>9</th>\n",
       "      <td>2014</td>\n",
       "    </tr>\n",
       "    <tr>\n",
       "      <th>10</th>\n",
       "      <td>2015</td>\n",
       "    </tr>\n",
       "    <tr>\n",
       "      <th>11</th>\n",
       "      <td>2016</td>\n",
       "    </tr>\n",
       "    <tr>\n",
       "      <th>12</th>\n",
       "      <td>2017</td>\n",
       "    </tr>\n",
       "    <tr>\n",
       "      <th>13</th>\n",
       "      <td>2018</td>\n",
       "    </tr>\n",
       "  </tbody>\n",
       "</table>\n",
       "</div>"
      ],
      "text/plain": [
       "    ADMYR\n",
       "0    2005\n",
       "1    2006\n",
       "2    2007\n",
       "3    2008\n",
       "4    2009\n",
       "5    2010\n",
       "6    2011\n",
       "7    2012\n",
       "8    2013\n",
       "9    2014\n",
       "10   2015\n",
       "11   2016\n",
       "12   2017\n",
       "13   2018"
      ]
     },
     "execution_count": 302,
     "metadata": {},
     "output_type": "execute_result"
    }
   ],
   "source": [
    "df2x = pd.DataFrame(columns=[\"ADMYR\"])\n",
    "df2x['ADMYR'] = df2_7['ADMYR'].sort_values().unique()\n",
    "df2x"
   ]
  },
  {
   "cell_type": "code",
   "execution_count": 317,
   "metadata": {},
   "outputs": [
    {
     "data": {
      "image/png": "[encoded data removed]",
      "text/plain": [
       "<Figure size 432x288 with 2 Axes>"
      ]
     },
     "metadata": {
      "needs_background": "light"
     },
     "output_type": "display_data"
    },
    {
     "data": {
      "text/plain": [
       "<Figure size 432x288 with 0 Axes>"
      ]
     },
     "metadata": {},
     "output_type": "display_data"
    }
   ],
   "source": [
    "fig, ax1 = plt.subplots()\n",
    "ax1.set_ylabel('Number of Individuals')\n",
    "ax1.plot(df2x, df_7_agg, 'green', label='DSM 7 - Cannabis dependence')\n",
    "ax1.tick_params(axis='y', labelcolor='green')\n",
    "ax1.set_xlabel('Year')\n",
    "ax1.set_ylim(0,3000)\n",
    "         \n",
    "ax2 = ax1.twinx() #instantiate a second axis that shared the same x-axis\n",
    "ax2.set_ylabel('Number of Individuals')\n",
    "ax2.plot(df2x, df_not_7_agg, 'blue', label='US')\n",
    "ax2.tick_params(axis='y', labelcolor='blue')\n",
    "ax2.set_ylim(0,80000)\n",
    "         \n",
    "fig.tight_layout()\n",
    "plt.title(\"Number of DSM 7 compared to other criteria 2005-2018\")\n",
    "fig1=plt.figure()\n",
    "plt.show()\n",
    "fig1.savefig('DSM7vsOther.png')"
   ]
  }
 ],
 "metadata": {
  "kernelspec": {
   "display_name": "Python 3",
   "language": "python",
   "name": "python3"
  },
  "language_info": {
   "codemirror_mode": {
    "name": "ipython",
    "version": 3
   },
   "file_extension": ".py",
   "mimetype": "text/x-python",
   "name": "python",
   "nbconvert_exporter": "python",
   "pygments_lexer": "ipython3",
   "version": "3.8.3"
  }
 },
 "nbformat": 4,
 "nbformat_minor": 4
}
