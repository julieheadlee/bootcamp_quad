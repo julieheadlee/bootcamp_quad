{
 "cells": [
  {
   "cell_type": "code",
   "execution_count": 23,
   "metadata": {},
   "outputs": [],
   "source": [
    "#Notebooks for data exploration and cleanup\n",
    "# Dependencies and Setup\n",
    "import matplotlib.pyplot as plt\n",
    "import pandas as pd\n",
    "import numpy as np\n",
    "import requests\n",
    "import time\n",
    "from scipy.stats import linregress \n",
    "import warnings\n",
    "\n",
    "warnings.filterwarnings(\"ignore\")"
   ]
  },
  {
   "cell_type": "markdown",
   "metadata": {},
   "source": [
    "<h1>Data Load and Segregation of Colorado Data - Substance Abuse Treatment</h1>"
   ]
  },
  {
   "cell_type": "code",
   "execution_count": 24,
   "metadata": {},
   "outputs": [],
   "source": [
    "# All data downloaded from https://www.samhsa.gov/ -- Substance Abuse and Mental Health Services Administration\n",
    "#Load the 2018 data\n",
    "substance_abuse_data_2018 = pd.read_csv(\"../marijuana_data/TEDS-A-2018-DS0001-bndl-data-tsv/tedsa_puf_2018.csv\",  \n",
    "                                    error_bad_lines=False, na_filter=False, )"
   ]
  },
  {
   "cell_type": "code",
   "execution_count": 25,
   "metadata": {},
   "outputs": [
    {
     "data": {
      "text/plain": [
       "83367"
      ]
     },
     "execution_count": 25,
     "metadata": {},
     "output_type": "execute_result"
    }
   ],
   "source": [
    "colorado_data = substance_abuse_data_2018.loc[substance_abuse_data_2018[\"STFIPS\"] == 8]\n",
    "colorado_data['CASEID'].count()"
   ]
  },
  {
   "cell_type": "code",
   "execution_count": 26,
   "metadata": {},
   "outputs": [
    {
     "data": {
      "text/plain": [
       "331803"
      ]
     },
     "execution_count": 26,
     "metadata": {},
     "output_type": "execute_result"
    }
   ],
   "source": [
    "#Load the 2015-2017 data and append to end of colorado_data\n",
    "substance_abuse_data_2017 = pd.read_csv(\"../marijuana_data/TEDS-A-2015-2017-DS0001-bndl-data-tsv/tedsa_puf_2015_2017.csv\",  \n",
    "                                    error_bad_lines=False, na_filter=False)\n",
    "data2017 = substance_abuse_data_2017.loc[substance_abuse_data_2017[\"STFIPS\"] == 8]\n",
    "colorado_data1 = colorado_data.append(data2017, ignore_index = True)\n",
    "colorado_data1['CASEID'].count()"
   ]
  },
  {
   "cell_type": "code",
   "execution_count": 27,
   "metadata": {},
   "outputs": [
    {
     "data": {
      "text/plain": [
       "753016"
      ]
     },
     "execution_count": 27,
     "metadata": {},
     "output_type": "execute_result"
    }
   ],
   "source": [
    "#Load the 2010-2014 data and append to end of colorado_data\n",
    "substance_abuse_data_2014 = pd.read_csv(\"../marijuana_data/TEDS-A-2010-2014-DS0001-bndl-data-tsv/tedsa_puf_2010_2014.csv\",  \n",
    "                                    error_bad_lines=False, na_filter=False)\n",
    "data2014 = substance_abuse_data_2014.loc[substance_abuse_data_2014[\"STFIPS\"] == 8]\n",
    "colorado_data2 = colorado_data1.append(data2014, ignore_index = True)\n",
    "colorado_data2['CASEID'].count()"
   ]
  },
  {
   "cell_type": "code",
   "execution_count": 28,
   "metadata": {},
   "outputs": [
    {
     "data": {
      "text/plain": [
       "1161884"
      ]
     },
     "execution_count": 28,
     "metadata": {},
     "output_type": "execute_result"
    }
   ],
   "source": [
    "#Load the 2005-2009 data and append to end of colorado_data\n",
    "substance_abuse_data_2009 = pd.read_csv(\"../marijuana_data/TEDS-A-2005-2009-DS0001-bndl-data-tsv/tedsa_puf_2005_2009.csv\",  \n",
    "                                    error_bad_lines=False, na_filter=False)\n",
    "data2009 = substance_abuse_data_2009.loc[substance_abuse_data_2009[\"STFIPS\"] == 8]\n",
    "colorado_data_all = colorado_data2.append(data2009, ignore_index = True)\n",
    "colorado_data_all['CASEID'].count()"
   ]
  },
  {
   "cell_type": "markdown",
   "metadata": {},
   "source": [
    "<h2>Data Cleanup</h2>"
   ]
  },
  {
   "cell_type": "markdown",
   "metadata": {},
   "source": [
    "Data cleanup consisted of removing columns not relevant for the current study and rows with incomplete data. \n",
    "\n",
    "Since our analysis focused on how legalization of marijuana impacted substance abuse treatment totals, all personal demographic info (age, sex, employment and veteran status) were not relevant.  In addition, a number of columns are related to payment, other psychiatric issues, or non-marijuana usage patterns.  These columns were also removed.  The final data columns maintained are:\n",
    "\n",
    "    ADMYR: Year of admission \n",
    "    CASEID: Unique identifier for each admission\n",
    "    SERVICES: Service setting at admission\n",
    "    SUB1: Substance use at admission (primary)\n",
    "    SUB2: Substance use at admission (secondary)\n",
    "    SUB3: Substance use at admission (tertiary)\n",
    "    MARFLG: Marijuana/hashish reported at admission\n",
    "    PSYPROB: Co-occurring mental and substance use disorders\n",
    "    \n"
   ]
  },
  {
   "cell_type": "code",
   "execution_count": 29,
   "metadata": {},
   "outputs": [
    {
     "data": {
      "text/html": [
       "<div>\n",
       "<style scoped>\n",
       "    .dataframe tbody tr th:only-of-type {\n",
       "        vertical-align: middle;\n",
       "    }\n",
       "\n",
       "    .dataframe tbody tr th {\n",
       "        vertical-align: top;\n",
       "    }\n",
       "\n",
       "    .dataframe thead th {\n",
       "        text-align: right;\n",
       "    }\n",
       "</style>\n",
       "<table border=\"1\" class=\"dataframe\">\n",
       "  <thead>\n",
       "    <tr style=\"text-align: right;\">\n",
       "      <th></th>\n",
       "      <th>ADMYR</th>\n",
       "      <th>CASEID</th>\n",
       "      <th>STFIPS</th>\n",
       "      <th>CBSA2010</th>\n",
       "      <th>EDUC</th>\n",
       "      <th>MARSTAT</th>\n",
       "      <th>SERVICES</th>\n",
       "      <th>DETCRIM</th>\n",
       "      <th>NOPRIOR</th>\n",
       "      <th>PSOURCE</th>\n",
       "      <th>...</th>\n",
       "      <th>TRNQFLG</th>\n",
       "      <th>BARBFLG</th>\n",
       "      <th>SEDHPFLG</th>\n",
       "      <th>INHFLG</th>\n",
       "      <th>OTCFLG</th>\n",
       "      <th>OTHERFLG</th>\n",
       "      <th>DIVISION</th>\n",
       "      <th>REGION</th>\n",
       "      <th>IDU</th>\n",
       "      <th>ALCDRUG</th>\n",
       "    </tr>\n",
       "  </thead>\n",
       "  <tbody>\n",
       "    <tr>\n",
       "      <th>0</th>\n",
       "      <td>2018</td>\n",
       "      <td>20181674745</td>\n",
       "      <td>8</td>\n",
       "      <td>19740</td>\n",
       "      <td>2</td>\n",
       "      <td>2</td>\n",
       "      <td>7</td>\n",
       "      <td>-9</td>\n",
       "      <td>0</td>\n",
       "      <td>-9</td>\n",
       "      <td>...</td>\n",
       "      <td>0</td>\n",
       "      <td>0</td>\n",
       "      <td>0</td>\n",
       "      <td>0</td>\n",
       "      <td>0</td>\n",
       "      <td>0</td>\n",
       "      <td>8</td>\n",
       "      <td>4</td>\n",
       "      <td>1</td>\n",
       "      <td>2</td>\n",
       "    </tr>\n",
       "    <tr>\n",
       "      <th>1</th>\n",
       "      <td>2018</td>\n",
       "      <td>20181598312</td>\n",
       "      <td>8</td>\n",
       "      <td>-9</td>\n",
       "      <td>3</td>\n",
       "      <td>2</td>\n",
       "      <td>7</td>\n",
       "      <td>-9</td>\n",
       "      <td>1</td>\n",
       "      <td>-9</td>\n",
       "      <td>...</td>\n",
       "      <td>0</td>\n",
       "      <td>0</td>\n",
       "      <td>0</td>\n",
       "      <td>0</td>\n",
       "      <td>0</td>\n",
       "      <td>0</td>\n",
       "      <td>8</td>\n",
       "      <td>4</td>\n",
       "      <td>1</td>\n",
       "      <td>2</td>\n",
       "    </tr>\n",
       "    <tr>\n",
       "      <th>2</th>\n",
       "      <td>2018</td>\n",
       "      <td>20181669968</td>\n",
       "      <td>8</td>\n",
       "      <td>-9</td>\n",
       "      <td>4</td>\n",
       "      <td>2</td>\n",
       "      <td>7</td>\n",
       "      <td>-9</td>\n",
       "      <td>1</td>\n",
       "      <td>1</td>\n",
       "      <td>...</td>\n",
       "      <td>0</td>\n",
       "      <td>0</td>\n",
       "      <td>0</td>\n",
       "      <td>0</td>\n",
       "      <td>0</td>\n",
       "      <td>0</td>\n",
       "      <td>8</td>\n",
       "      <td>4</td>\n",
       "      <td>1</td>\n",
       "      <td>2</td>\n",
       "    </tr>\n",
       "    <tr>\n",
       "      <th>3</th>\n",
       "      <td>2018</td>\n",
       "      <td>20181726629</td>\n",
       "      <td>8</td>\n",
       "      <td>19740</td>\n",
       "      <td>3</td>\n",
       "      <td>2</td>\n",
       "      <td>7</td>\n",
       "      <td>-9</td>\n",
       "      <td>0</td>\n",
       "      <td>1</td>\n",
       "      <td>...</td>\n",
       "      <td>0</td>\n",
       "      <td>0</td>\n",
       "      <td>0</td>\n",
       "      <td>0</td>\n",
       "      <td>0</td>\n",
       "      <td>0</td>\n",
       "      <td>8</td>\n",
       "      <td>4</td>\n",
       "      <td>1</td>\n",
       "      <td>2</td>\n",
       "    </tr>\n",
       "    <tr>\n",
       "      <th>4</th>\n",
       "      <td>2018</td>\n",
       "      <td>20181897353</td>\n",
       "      <td>8</td>\n",
       "      <td>19740</td>\n",
       "      <td>3</td>\n",
       "      <td>1</td>\n",
       "      <td>7</td>\n",
       "      <td>-9</td>\n",
       "      <td>5</td>\n",
       "      <td>-9</td>\n",
       "      <td>...</td>\n",
       "      <td>0</td>\n",
       "      <td>0</td>\n",
       "      <td>0</td>\n",
       "      <td>0</td>\n",
       "      <td>0</td>\n",
       "      <td>0</td>\n",
       "      <td>8</td>\n",
       "      <td>4</td>\n",
       "      <td>1</td>\n",
       "      <td>2</td>\n",
       "    </tr>\n",
       "  </tbody>\n",
       "</table>\n",
       "<p>5 rows × 62 columns</p>\n",
       "</div>"
      ],
      "text/plain": [
       "   ADMYR       CASEID  STFIPS  CBSA2010  EDUC  MARSTAT  SERVICES  DETCRIM  \\\n",
       "0   2018  20181674745       8     19740     2        2         7       -9   \n",
       "1   2018  20181598312       8        -9     3        2         7       -9   \n",
       "2   2018  20181669968       8        -9     4        2         7       -9   \n",
       "3   2018  20181726629       8     19740     3        2         7       -9   \n",
       "4   2018  20181897353       8     19740     3        1         7       -9   \n",
       "\n",
       "   NOPRIOR  PSOURCE  ...  TRNQFLG  BARBFLG  SEDHPFLG  INHFLG  OTCFLG  \\\n",
       "0        0       -9  ...        0        0         0       0       0   \n",
       "1        1       -9  ...        0        0         0       0       0   \n",
       "2        1        1  ...        0        0         0       0       0   \n",
       "3        0        1  ...        0        0         0       0       0   \n",
       "4        5       -9  ...        0        0         0       0       0   \n",
       "\n",
       "   OTHERFLG  DIVISION  REGION  IDU  ALCDRUG  \n",
       "0         0         8       4    1        2  \n",
       "1         0         8       4    1        2  \n",
       "2         0         8       4    1        2  \n",
       "3         0         8       4    1        2  \n",
       "4         0         8       4    1        2  \n",
       "\n",
       "[5 rows x 62 columns]"
      ]
     },
     "execution_count": 29,
     "metadata": {},
     "output_type": "execute_result"
    }
   ],
   "source": [
    "colorado_data_all.head()"
   ]
  },
  {
   "cell_type": "code",
   "execution_count": 38,
   "metadata": {},
   "outputs": [],
   "source": [
    "clean_colorado_data = colorado_data_all[['ADMYR', 'CASEID', 'SERVICES', 'SUB1', 'SUB2', 'SUB3', 'MARFLG', 'PSYPROB']]"
   ]
  },
  {
   "cell_type": "code",
   "execution_count": 39,
   "metadata": {},
   "outputs": [],
   "source": [
    "# Save this clean data to a .csv which will be easier to manipulate in analysis notebook\n",
    "clean_colorado_data.to_csv('data/clean_substance_treatment_data.csv')"
   ]
  },
  {
   "cell_type": "code",
   "execution_count": 40,
   "metadata": {},
   "outputs": [
    {
     "data": {
      "text/plain": [
       "ADMYR       1161884\n",
       "CASEID      1161884\n",
       "SERVICES    1161884\n",
       "SUB1        1161884\n",
       "SUB2        1161884\n",
       "SUB3        1161884\n",
       "MARFLG      1161884\n",
       "PSYPROB     1161884\n",
       "dtype: int64"
      ]
     },
     "execution_count": 40,
     "metadata": {},
     "output_type": "execute_result"
    }
   ],
   "source": [
    "clean_colorado_data.count()"
   ]
  },
  {
   "cell_type": "markdown",
   "metadata": {},
   "source": [
    "Previous analysis revealed no explicitly missing values in the data ('NaT' or 'NaN').  However, several of the fields/columns have a \"no value\" code of -9 to signify missing data.  Since these values mean the data was not collected or recorded correctly, we will drop those rows unless -9 exists in the SUB2 or SUB3 column.  That will be converted to '1', meaning 'None' on the secondary or tertiary drug use."
   ]
  },
  {
   "cell_type": "code",
   "execution_count": 41,
   "metadata": {},
   "outputs": [
    {
     "data": {
      "text/plain": [
       "961433"
      ]
     },
     "execution_count": 41,
     "metadata": {},
     "output_type": "execute_result"
    }
   ],
   "source": [
    "clean_colorado_data.loc[clean_colorado_data['SUB2'] == -9, ['SUB2']] = 1\n",
    "clean_colorado_data.loc[clean_colorado_data['SUB3'] == -9, ['SUB3']] = 1\n",
    "final_colorado_treatment_data = clean_colorado_data.loc[((clean_colorado_data['SERVICES'] > -1) &\n",
    "                                                        (clean_colorado_data['SUB1'] > -1) &\n",
    "                                                        (clean_colorado_data['MARFLG'] > -1) &\n",
    "                                                        (clean_colorado_data['PSYPROB'] > -1))]\n",
    "final_colorado_treatment_data['CASEID'].count()"
   ]
  },
  {
   "cell_type": "code",
   "execution_count": 42,
   "metadata": {},
   "outputs": [],
   "source": [
    "# Save this clean data to a .csv which will be easier to manipulate in analysis notebook\n",
    "final_colorado_treatment_data.to_csv('data/clean_substance_treatment_data.csv')"
   ]
  },
  {
   "cell_type": "markdown",
   "metadata": {},
   "source": []
  }
 ],
 "metadata": {
  "kernelspec": {
   "display_name": "Python 3",
   "language": "python",
   "name": "python3"
  },
  "language_info": {
   "codemirror_mode": {
    "name": "ipython",
    "version": 3
   },
   "file_extension": ".py",
   "mimetype": "text/x-python",
   "name": "python",
   "nbconvert_exporter": "python",
   "pygments_lexer": "ipython3",
   "version": "3.8.3"
  }
 },
 "nbformat": 4,
 "nbformat_minor": 4
}
